{
 "cells": [
  {
   "cell_type": "markdown",
   "metadata": {},
   "source": [
    "# Dataset File-Attribute Summary\n",
    "## 1 *data/ukTrafficAADF.csv*\n",
    "> Tracks how much traffic there was on all major roads in the given time period (2000 through 2016). AADT, the core statistic included  in this file, stands for \"Average Annual Daily Flow\", and is a measure of how activity a road segment based on how many vehicle trips traverse it. [More information available on this page.](https://en.wikipedia.org/wiki/Annual_average_daily_traffic)\n",
    "### 1.1 AADFYear\n",
    "> The year data was recorded.\n",
    "### 1.2 Estimation_method \n",
    "> The way the data was recorded--counted or estimated.\n",
    "### 1.3 Estimation_method_detailed\n",
    "> There is also some detail about how it was counted, or how it was estimated.\n",
    "## 2 *data/accidents_20XX_to_20XX.csv*\n",
    "> UK road accidents from 2005 to 2014. There are only three files with this signature. \\\n",
    "<font color='red'>**Note:**\n",
    ">> the columns are the same for all three files included in this dataset. \\\n",
    "The total time period is 2005 through 2014, **but 2008 is missing**.</font>\n",
    "### 2.1 Accident_Index\n",
    "> A unique id that stands for each accident.\n",
    "\n",
    "| datatype | valid | unique |\n",
    "| --- | --- | --- |\n",
    "| string | 100% | 366189 |\n",
    "\n",
    "### 2.2 Police_Force\n",
    "> A unique id representing each accident.\n",
    "\n",
    "| datatype | valid | mean | std. deviation | min | 25% | 50% | 75% | Max |\n",
    "| --- | --- | --- | --- | --- | --- | --- | --- | --- |\n",
    "| integer | 100% | 31.2 | 25.5 | 1 | 7 | 31 | 46 | 98 |\n",
    "\n",
    "### 2.3 Accident_Severity\n",
    "> An integer which tells us about the severity of accident.\n",
    "\n",
    "| datatype | valid | mean | std. deviation | min | 25% | 50% | 75% | Max |\n",
    "| --- | --- | --- | --- | --- | --- | --- | --- | --- |\n",
    "| integer | 100% | 1.84 | 0.72 | 1 | 1 | 2 | 2 | 28 |\n"
   ]
  },
  {
   "cell_type": "code",
   "execution_count": null,
   "metadata": {},
   "outputs": [],
   "source": []
  }
 ],
 "metadata": {
  "kernelspec": {
   "display_name": "Python 3",
   "language": "python",
   "name": "python3"
  },
  "language_info": {
   "codemirror_mode": {
    "name": "ipython",
    "version": 3
   },
   "file_extension": ".py",
   "mimetype": "text/x-python",
   "name": "python",
   "nbconvert_exporter": "python",
   "pygments_lexer": "ipython3",
   "version": "3.6.9"
  }
 },
 "nbformat": 4,
 "nbformat_minor": 4
}
