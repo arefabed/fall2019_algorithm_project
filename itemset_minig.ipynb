{
 "cells": [
  {
   "cell_type": "code",
   "execution_count": 2,
   "metadata": {},
   "outputs": [
    {
     "ename": "SyntaxError",
     "evalue": "unexpected EOF while parsing (ItemSetMinerBase.py, line 103)",
     "output_type": "error",
     "traceback": [
      "Traceback \u001b[0;36m(most recent call last)\u001b[0m:\n",
      "  File \u001b[1;32m\"/home/amir/.local/lib/python3.6/site-packages/IPython/core/interactiveshell.py\"\u001b[0m, line \u001b[1;32m3331\u001b[0m, in \u001b[1;35mrun_code\u001b[0m\n    exec(code_obj, self.user_global_ns, self.user_ns)\n",
      "  File \u001b[1;32m\"<ipython-input-2-ce11da37b865>\"\u001b[0m, line \u001b[1;32m1\u001b[0m, in \u001b[1;35m<module>\u001b[0m\n    from py_files.itmst_plic_frce_vs_dy_of_wk import NPoliceVsDayOfWeek\n",
      "\u001b[0;36m  File \u001b[0;32m\"/media/amir/cda5fbcb-fd6e-483e-86f5-acf3768a343e/fall2019_algorithm_project/py_files/itmst_plic_frce_vs_dy_of_wk.py\"\u001b[0;36m, line \u001b[0;32m1\u001b[0;36m, in \u001b[0;35m<module>\u001b[0;36m\u001b[0m\n\u001b[0;31m    from py_files.ItemSetMinerBase import ItemSetMinerBase\u001b[0m\n",
      "\u001b[0;36m  File \u001b[0;32m\"/media/amir/cda5fbcb-fd6e-483e-86f5-acf3768a343e/fall2019_algorithm_project/py_files/ItemSetMinerBase.py\"\u001b[0;36m, line \u001b[0;32m103\u001b[0m\n\u001b[0;31m    \u001b[0m\n\u001b[0m    ^\u001b[0m\n\u001b[0;31mSyntaxError\u001b[0m\u001b[0;31m:\u001b[0m unexpected EOF while parsing\n"
     ]
    }
   ],
   "source": [
    "from py_files.itmst_plic_frce_vs_dy_of_wk import NPoliceVsDayOfWeek\n",
    "\n",
    "miner = NPoliceVsDayOfWeek()"
   ]
  },
  {
   "cell_type": "code",
   "execution_count": 2,
   "metadata": {},
   "outputs": [
    {
     "name": "stdout",
     "output_type": "stream",
     "text": [
      "Q0:  15\n",
      "Q1:  127.25\n",
      "Q2:  212.0\n",
      "Q3:  939.0\n",
      "Q4:  4190\n",
      "mean:  1072.4285714285713\n",
      "\n",
      "data after thresholding\n",
      "Q0:  225.0\n",
      "Q1:  277.5\n",
      "Q2:  1554.0\n",
      "Q3:  3963.75\n",
      "Q4:  4190.0\n",
      "mean:  2029.642857142857\n",
      "\n",
      "data after binarization\n",
      "{1: [0, 1, 2, 3, 4, 5, 6], 48: [], 3: [0, 4, 1, 5, 2, 3, 6], 4: []}\n",
      "\n",
      "frequent itemsets \n",
      "[([1], 7), ([1, 3], 7), ([3], 7)]\n",
      "\n"
     ]
    }
   ],
   "source": [
    "q0,q1,q2,q3,q4,mean = miner.summarize()\n",
    "miner.threshold(q2) # we'll ignore rare incidents\n",
    "print('\\ndata after thresholding')\n",
    "miner.summarize()\n",
    "miner.binarize()\n",
    "print('\\ndata after binarization')\n",
    "print(miner.itemset_dic)\n",
    "print('\\nfrequent itemsets ')\n",
    "miner.dEclat(3) # 3 days of week is considered a frequent itemset\n",
    "print()"
   ]
  }
 ],
 "metadata": {
  "kernelspec": {
   "display_name": "Python 3",
   "language": "python",
   "name": "python3"
  },
  "language_info": {
   "codemirror_mode": {
    "name": "ipython",
    "version": 3
   },
   "file_extension": ".py",
   "mimetype": "text/x-python",
   "name": "python",
   "nbconvert_exporter": "python",
   "pygments_lexer": "ipython3",
   "version": "3.6.9"
  }
 },
 "nbformat": 4,
 "nbformat_minor": 4
}
