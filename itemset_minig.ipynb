{
 "cells": [
  {
   "cell_type": "code",
   "execution_count": 1,
   "metadata": {},
   "outputs": [
    {
     "name": "stderr",
     "output_type": "stream",
     "text": [
      "  5%|▌         | 546/10000 [00:00<00:03, 2718.51it/s]"
     ]
    },
    {
     "name": "stdout",
     "output_type": "stream",
     "text": [
      "reading files...\n",
      "generating transaction dictionary...\n"
     ]
    },
    {
     "name": "stderr",
     "output_type": "stream",
     "text": [
      "100%|██████████| 10000/10000 [00:03<00:00, 2658.08it/s]\n"
     ]
    }
   ],
   "source": [
    "from py_files.itmst_plic_frce_vs_dy_of_wk import NPoliceVsDayOfWeek\n",
    "\n",
    "miner = NPoliceVsDayOfWeek()"
   ]
  },
  {
   "cell_type": "code",
   "execution_count": 2,
   "metadata": {},
   "outputs": [
    {
     "name": "stdout",
     "output_type": "stream",
     "text": [
      "Q0:  15\n",
      "Q1:  55.25\n",
      "Q2:  541.0\n",
      "Q3:  1448.75\n",
      "Q4:  1557\n",
      "mean:  715.2857142857143\n",
      "data after thresholding\n",
      "Q0:  1020.0\n",
      "Q1:  1347.5\n",
      "Q2:  1463.0\n",
      "Q3:  1481.0\n",
      "Q4:  1557.0\n",
      "mean:  1385.2857142857142\n",
      "data after binarization\n",
      "{1: [0, 1, 2, 3, 4, 5, 6], 48: []}\n"
     ]
    }
   ],
   "source": [
    "q0,q1,q2,q3,q4,mean = miner.summarize()\n",
    "miner.threshold(q2) # we'll ignore rare incidents\n",
    "print('data after thresholding')\n",
    "miner.summarize()\n",
    "miner.binarize()\n",
    "print('data after binarization')\n",
    "print(miner.itemset_dic)"
   ]
  }
 ],
 "metadata": {
  "kernelspec": {
   "display_name": "Python 3",
   "language": "python",
   "name": "python3"
  },
  "language_info": {
   "codemirror_mode": {
    "name": "ipython",
    "version": 3
   },
   "file_extension": ".py",
   "mimetype": "text/x-python",
   "name": "python",
   "nbconvert_exporter": "python",
   "pygments_lexer": "ipython3",
   "version": "3.6.9"
  }
 },
 "nbformat": 4,
 "nbformat_minor": 4
}
