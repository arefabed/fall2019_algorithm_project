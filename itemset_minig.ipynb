{
 "cells": [
  {
   "cell_type": "code",
   "execution_count": 1,
   "metadata": {},
   "outputs": [
    {
     "name": "stderr",
     "output_type": "stream",
     "text": [
      "100%|██████████| 300/300 [00:00<00:00, 2415.23it/s]"
     ]
    },
    {
     "name": "stdout",
     "output_type": "stream",
     "text": [
      "reading files...\n",
      "generating transaction dictionary...\n",
      "(3,)\n",
      "(1,)\n"
     ]
    },
    {
     "name": "stderr",
     "output_type": "stream",
     "text": [
      "\n"
     ]
    }
   ],
   "source": [
    "from py_files.itmst_plic_frce_vs_dy_of_wk import NPoliceVsDayOfWeek\n",
    "\n",
    "miner = NPoliceVsDayOfWeek()"
   ]
  },
  {
   "cell_type": "code",
   "execution_count": 2,
   "metadata": {},
   "outputs": [
    {
     "name": "stdout",
     "output_type": "stream",
     "text": [
      "Q0:  15\n",
      "Q1:  127.25\n",
      "Q2:  212.0\n",
      "Q3:  939.0\n",
      "Q4:  4190\n",
      "mean:  1072.4285714285713\n",
      "\n",
      "data after thresholding\n",
      "Q0:  225.0\n",
      "Q1:  277.5\n",
      "Q2:  1554.0\n",
      "Q3:  3963.75\n",
      "Q4:  4190.0\n",
      "mean:  2029.642857142857\n",
      "\n",
      "data after binarization\n",
      "{1: [0, 1, 2, 3, 4, 5, 6], 48: [], 3: [0, 4, 1, 5, 2, 3, 6], 4: []}\n",
      "\n",
      "frequent itemsets \n",
      "[({1}, 7), ({1, 3}, 7), ({3}, 7)]\n",
      "\n",
      "association rules \n",
      "{1, 2, 3, 4, 5}\n",
      "[{(1,), (2,), (3,), (4,), (5,)}, {(1, 2), (1, 3), (4, 5), (1, 4), (1, 5), (2, 3), (2, 5), (3, 4), (2, 4), (3, 5)}, {(2, 3, 5), (1, 2, 3), (1, 3, 5), (1, 4, 5), (1, 2, 4), (1, 3, 4), (2, 4, 5), (3, 4, 5), (2, 3, 4), (1, 2, 5)}, {(1, 2, 3, 4), (1, 3, 4, 5), (2, 3, 4, 5), (1, 2, 3, 5), (1, 2, 4, 5)}]\n"
     ]
    }
   ],
   "source": [
    "q0,q1,q2,q3,q4,mean = miner.summarize()\n",
    "miner.threshold(q2) # we'll ignore rare incidents\n",
    "print('\\ndata after thresholding')\n",
    "miner.summarize()\n",
    "miner.binarize()\n",
    "print('\\ndata after binarization')\n",
    "print(miner.itemset_dic)\n",
    "print('\\nfrequent itemsets ')\n",
    "miner.dEclat(3) # 3 days of week is considered a frequent itemset\n",
    "print('\\nassociation rules ')\n",
    "miner.association_rules(0)"
   ]
  }
 ],
 "metadata": {
  "kernelspec": {
   "display_name": "Python 3",
   "language": "python",
   "name": "python3"
  },
  "language_info": {
   "codemirror_mode": {
    "name": "ipython",
    "version": 3
   },
   "file_extension": ".py",
   "mimetype": "text/x-python",
   "name": "python",
   "nbconvert_exporter": "python",
   "pygments_lexer": "ipython3",
   "version": "3.6.9"
  }
 },
 "nbformat": 4,
 "nbformat_minor": 4
}
